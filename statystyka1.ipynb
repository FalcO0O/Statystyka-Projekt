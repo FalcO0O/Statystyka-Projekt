{
 "cells": [
  {
   "cell_type": "code",
   "execution_count": 6,
   "id": "4c30e719-f381-4c7c-9919-261c979be65e",
   "metadata": {},
   "outputs": [],
   "source": [
    "import pandas as pd\n",
    "from sklearn.datasets import make_classification\n",
    "import seaborn as sns\n",
    "import matplotlib.pyplot as plt"
   ]
  },
  {
   "cell_type": "code",
   "execution_count": null,
   "id": "b0b5b83a-eea0-452a-b95e-f67e8875bbdb",
   "metadata": {},
   "outputs": [],
   "source": [
    "# Ścieżka do pliku CSV\n",
    "file_path = \"./mushroom-classification/mushrooms.csv\"\n",
    "\n",
    "# Wczytaj dane\n",
    "data = pd.read_csv(file_path)\n",
    "# Wyświetl pierwsze kilka wierszy\n",
    "X = data.drop(\"class\", axis=1)  # 'class' to kolumna docelowa (etykiety)\n",
    "y = data[\"class\"]\n",
    "#print(y.unique())\n",
    "#for feature in X.columns:\n",
    "#print(y)\n",
    "#print(X['bruises'].unique())\n",
    "X_encoded = X.apply(lambda col: col.astype('category').cat.codes)\n",
    "y_encoded = y.astype('category').cat.codes\n",
    "for feature in y.unique():\n",
    "    print(feature)\n",
    "    print(len(X[(y==feature) & (X[\"cap-shape\"] == \"x\")]))\n",
    "\n",
    "print(y)\n",
    "\n",
    "for column, row in X.iterrows():\n",
    "    print(row['stalk-color-above-ring'])"
   ]
  },
  {
   "cell_type": "code",
   "execution_count": 115,
   "id": "b7997832-7f24-406c-9693-89a3eea0abdb",
   "metadata": {},
   "outputs": [],
   "source": [
    "class MulitnomialNaiveBayesClassifie:\n",
    "\n",
    "    def __init__(self):\n",
    "        self.feature_probability={}\n",
    "        self.conditional_probability={} #domyslnie kazde jest warunkowe wzgldem wartosci z feature_probability.\n",
    "\n",
    "    def fit(self, X_train, y):\n",
    "        \"\"\"\n",
    "        X_train jest tablica wartosci w naszym zbiorze, zapisany z uzyciem DataFrame'u, bibliotek pandas.\n",
    "        y jest kolumna cech dla ktorej bedziemy wykonywac predykcje, zapisana przy uzyciu Seris -> kolumna wzieta z DataFrame'a.\n",
    "        Nie zwraca nic.\n",
    "        \"\"\"\n",
    "\n",
    "        for feature in y.unique():\n",
    "            self.feature_probability[feature]=len(y[y==feature])/len(y) #mozna poprawc, by przechowywac liczby calkowito liczbowe\n",
    "\n",
    "        for column in X.columns:\n",
    "            self.conditional_probability[column]={}\n",
    "            for conditional_feature in X[column].unique():\n",
    "                self.conditional_probability[column][conditional_feature]={}\n",
    "                for feature in y.unique():\n",
    "                    feature_count=len(y[y==feature])\n",
    "                    conditional_feature_count=len(X_train[(y==feature) & (X_train[column]==conditional_feature)])\n",
    "                    self.conditional_probability[column][conditional_feature][feature]=conditional_feature_count/feature_count\n",
    "                    \n",
    "    def predict(self, row_to_predict, expected_value):\n",
    "        \"\"\"\n",
    "        row_to_predict: struktura Seris zawierający dane, dla których chcemy wykonać predykcję\n",
    "        \"\"\"\n",
    "        predictions = []\n",
    "\n",
    "        # Obliczanie prawdopodobieństwa dla każdej klasy\n",
    "        for feature in self.feature_probability:\n",
    "            probability = self.feature_probability[feature]\n",
    "\n",
    "            for column in X_to_predict.columns:\n",
    "                value = row[column]\n",
    "                if value in self.conditional_probability[column]:\n",
    "                    probability *= self.conditional_probability[column][value].get(feature, 0)\n",
    "                else:\n",
    "                    probability *= 1e-16  # Brak warunku oznacza male prawdopodobienstwo.  \n",
    "            probability_per_feature[feature] = probability\n",
    "\n",
    "            # Wybieranie klasy z najwyższym prawdopodobieństwem\n",
    "        predicted_feature = max(probability_per_feature, key=probability_per_feature.get)\n",
    "        predictions.append(predicted_feature)\n",
    "        print(predicted_feature)\n",
    "        return predictions\n",
    "        \n",
    "    def predict_proba():\n",
    "        "
   ]
  },
  {
   "cell_type": "code",
   "execution_count": null,
   "id": "95fd2bc7-4fa2-4d02-ad5c-a7ff7878d732",
   "metadata": {},
   "outputs": [],
   "source": [
    "NBC=MulitnomialNaiveBayesClassifie()\n",
    "NBC.fit(X, y)\n",
    "NBC.predict(X)\n",
    "NBC.feature_probability"
   ]
  },
  {
   "cell_type": "code",
   "execution_count": null,
   "id": "894e2393-a403-437d-88f5-556b846f549f",
   "metadata": {},
   "outputs": [],
   "source": [
    "for column in data.columns:\n",
    "    if column != \"class\": # Ominięcie kolumny z klasą\n",
    "        print(f\"Cecha: {column}\")\n",
    "        print(data.groupby(\"class\")[column].value_counts(), \"\\n\")"
   ]
  },
  {
   "cell_type": "code",
   "execution_count": 4,
   "id": "d20f8178-8ac1-4d8c-9ecc-c1eb8a657486",
   "metadata": {},
   "outputs": [
    {
     "ename": "NameError",
     "evalue": "name 'sns' is not defined",
     "output_type": "error",
     "traceback": [
      "\u001b[0;31m---------------------------------------------------------------------------\u001b[0m",
      "\u001b[0;31mNameError\u001b[0m                                 Traceback (most recent call last)",
      "Cell \u001b[0;32mIn[4], line 2\u001b[0m\n\u001b[1;32m      1\u001b[0m \u001b[38;5;66;03m# Wykres punktowy zapachu (odor) i rozmiaru blaszek (gill-size)\u001b[39;00m\n\u001b[0;32m----> 2\u001b[0m sns\u001b[38;5;241m.\u001b[39mscatterplot(data\u001b[38;5;241m=\u001b[39mdata_encoded, x\u001b[38;5;241m=\u001b[39m\u001b[38;5;124m'\u001b[39m\u001b[38;5;124modor\u001b[39m\u001b[38;5;124m'\u001b[39m, y\u001b[38;5;241m=\u001b[39m\u001b[38;5;124m'\u001b[39m\u001b[38;5;124mgill-size\u001b[39m\u001b[38;5;124m'\u001b[39m, hue\u001b[38;5;241m=\u001b[39mdata[\u001b[38;5;124m'\u001b[39m\u001b[38;5;124mclass\u001b[39m\u001b[38;5;124m'\u001b[39m], palette\u001b[38;5;241m=\u001b[39m{\u001b[38;5;124m'\u001b[39m\u001b[38;5;124me\u001b[39m\u001b[38;5;124m'\u001b[39m: \u001b[38;5;124m'\u001b[39m\u001b[38;5;124mgreen\u001b[39m\u001b[38;5;124m'\u001b[39m, \u001b[38;5;124m'\u001b[39m\u001b[38;5;124mp\u001b[39m\u001b[38;5;124m'\u001b[39m: \u001b[38;5;124m'\u001b[39m\u001b[38;5;124mred\u001b[39m\u001b[38;5;124m'\u001b[39m})\n\u001b[1;32m      3\u001b[0m plt\u001b[38;5;241m.\u001b[39mtitle(\u001b[38;5;124m\"\u001b[39m\u001b[38;5;124mZależność między \u001b[39m\u001b[38;5;124m'\u001b[39m\u001b[38;5;124modor\u001b[39m\u001b[38;5;124m'\u001b[39m\u001b[38;5;124m a \u001b[39m\u001b[38;5;124m'\u001b[39m\u001b[38;5;124mgill-size\u001b[39m\u001b[38;5;124m'\u001b[39m\u001b[38;5;124m\"\u001b[39m)\n\u001b[1;32m      4\u001b[0m plt\u001b[38;5;241m.\u001b[39mshow()\n",
      "\u001b[0;31mNameError\u001b[0m: name 'sns' is not defined"
     ]
    }
   ],
   "source": [
    "\n",
    "# Wykres punktowy zapachu (odor) i rozmiaru blaszek (gill-size)\n",
    "sns.scatterplot(data=data_encoded, x='odor', y='gill-size', hue=data['class'], palette={'e': 'green', 'p': 'red'})\n",
    "plt.title(\"Zależność między 'odor' a 'gill-size'\")\n",
    "plt.show()"
   ]
  },
  {
   "cell_type": "code",
   "execution_count": null,
   "id": "4e3adf35-d47b-4b4c-bc8a-1e52fbc012d8",
   "metadata": {},
   "outputs": [],
   "source": []
  }
 ],
 "metadata": {
  "kernelspec": {
   "display_name": "Python 3 (ipykernel)",
   "language": "python",
   "name": "python3"
  },
  "language_info": {
   "codemirror_mode": {
    "name": "ipython",
    "version": 3
   },
   "file_extension": ".py",
   "mimetype": "text/x-python",
   "name": "python",
   "nbconvert_exporter": "python",
   "pygments_lexer": "ipython3",
   "version": "3.12.4"
  }
 },
 "nbformat": 4,
 "nbformat_minor": 5
}
