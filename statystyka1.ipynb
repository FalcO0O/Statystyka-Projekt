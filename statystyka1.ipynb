{
 "cells": [
  {
   "cell_type": "code",
   "execution_count": 30,
   "id": "4c30e719-f381-4c7c-9919-261c979be65e",
   "metadata": {},
   "outputs": [],
   "source": [
    "import pandas as pd\n",
    "from sklearn.datasets import make_classification\n",
    "from sklearn.model_selection import train_test_split\n",
    "import seaborn as sns\n",
    "import matplotlib.pyplot as plt"
   ]
  },
  {
   "cell_type": "code",
   "execution_count": 33,
   "id": "b0b5b83a-eea0-452a-b95e-f67e8875bbdb",
   "metadata": {},
   "outputs": [
    {
     "name": "stdout",
     "output_type": "stream",
     "text": [
      "Kolumna: class, Wartość: e\n",
      "Kolumna: cap-shape, Wartość: x\n",
      "Kolumna: cap-surface, Wartość: s\n",
      "Kolumna: cap-color, Wartość: y\n",
      "Kolumna: bruises, Wartość: t\n",
      "Kolumna: odor, Wartość: a\n",
      "Kolumna: gill-attachment, Wartość: f\n",
      "Kolumna: gill-spacing, Wartość: c\n",
      "Kolumna: gill-size, Wartość: b\n",
      "Kolumna: gill-color, Wartość: k\n",
      "Kolumna: stalk-shape, Wartość: e\n",
      "Kolumna: stalk-root, Wartość: c\n",
      "Kolumna: stalk-surface-above-ring, Wartość: s\n",
      "Kolumna: stalk-surface-below-ring, Wartość: s\n",
      "Kolumna: stalk-color-above-ring, Wartość: w\n",
      "Kolumna: stalk-color-below-ring, Wartość: w\n",
      "Kolumna: veil-type, Wartość: p\n",
      "Kolumna: veil-color, Wartość: w\n",
      "Kolumna: ring-number, Wartość: o\n",
      "Kolumna: ring-type, Wartość: p\n",
      "Kolumna: spore-print-color, Wartość: n\n",
      "Kolumna: population, Wartość: n\n",
      "Kolumna: habitat, Wartość: g\n"
     ]
    }
   ],
   "source": [
    "# Ścieżka do pliku CSV\n",
    "file_path = \"./mushroom-classification/mushrooms.csv\"\n",
    "\n",
    "# Wczytaj dane\n",
    "X = pd.read_csv(file_path)\n",
    "# Wyświetl pierwsze kilka wierszy\n",
    "y = data[\"class\"]\n",
    "#print(y.unique())\n",
    "#for feature in X.columns:\n",
    "#print(y)\n",
    "#print(X['bruises'].unique())\n",
    "#X_encoded = X.apply(lambda col: col.astype('category').cat.codes)\n",
    "#y_encoded = y.astype('category').cat.codes\n",
    "for col, value in X.iloc[1].items():\n",
    "    print(f\"Kolumna: {col}, Wartość: {value}\")"
   ]
  },
  {
   "cell_type": "code",
   "execution_count": 64,
   "id": "b7997832-7f24-406c-9693-89a3eea0abdb",
   "metadata": {},
   "outputs": [],
   "source": [
    "class MulitnomialNaiveBayesClassifie:\n",
    "    def __init__(self):\n",
    "        self.feature_probability={}\n",
    "        self.conditional_probability={} #domyslnie kazde jest warunkowe wzgldem wartosci z feature_probability.\n",
    "\n",
    "    def fit(self, X_train, column_name):\n",
    "        \"\"\"\n",
    "        X_train jest tablica wartosci w naszym zbiorze, zapisany z uzyciem DataFrame'u, bibliotek pandas.\n",
    "        column_name, to nazwa kolumn z X_train wzgledem, ktorej dokuonujemy estymacji.\n",
    "        Nie zwraca nic.\n",
    "        \"\"\"\n",
    "        y=X_train[column_name]\n",
    "        for feature in y.unique():\n",
    "            self.feature_probability[feature]=len(y[y==feature])/len(y) #mozna poprawc, by przechowywac liczby calkowito liczbowe\n",
    "\n",
    "        for column in X.columns:\n",
    "            if column == column_name:\n",
    "                continue\n",
    "            self.conditional_probability[column]={}\n",
    "            for conditional_feature in X[column].unique():\n",
    "                self.conditional_probability[column][conditional_feature]={}\n",
    "                for feature in y.unique():\n",
    "                    feature_count=len(y[y==feature])\n",
    "                    conditional_feature_count=len(X_train[(y==feature) & (X_train[column]==conditional_feature)])\n",
    "                    self.conditional_probability[column][conditional_feature][feature]=conditional_feature_count/feature_count\n",
    "                    #dodac sytuacje do braku wartosci: \"?\"\n",
    "    \n",
    "    def predict_option(self, row_to_predict, column_name, b):    \n",
    "        probability_per_feature={}\n",
    "        # Obliczanie prawdopodobieństwa dla każdej klasy\n",
    "        for feature in self.feature_probability:\n",
    "            probability = self.feature_probability[feature]\n",
    "\n",
    "            for column, value in row_to_predict.items():\n",
    "                \n",
    "                if column == column_name:\n",
    "                    continue  \n",
    "                elif value in self.conditional_probability[column]:\n",
    "                    conditional_probability_now=self.conditional_probability[column][value].get(feature, 0)\n",
    "                    \n",
    "                    if not conditional_probability_now:\n",
    "                        conditional_probability_now = 1e-16\n",
    "                        \n",
    "                    probability *= conditional_probability_now\n",
    "                else:\n",
    "                    print(\"zero\")\n",
    "                    probability *= 1e-16  # Brak warunku oznacza male prawdopodobienstwo, nie moze byc zero, ale jest bliskie zeru.  \n",
    "            probability_per_feature[feature] = probability\n",
    "\n",
    "        # Wybieranie klasy z najwyższym prawdopodobieństwem\n",
    "        if b:\n",
    "            predicted_feature = max(probability_per_feature, key=probability_per_feature.get)\n",
    "            return predicted_feature\n",
    "        else:\n",
    "            return list(probability_per_feature.items())\n",
    "        \n",
    "    def predict(self, row_to_predict, column_name):\n",
    "        \"\"\"\n",
    "        row_to_predict: struktura Seris zawierający dane, dla których chcemy wykonać predykcję\n",
    "        \"\"\"\n",
    "        return self.predict_option(row_to_predict, column_name, True)\n",
    "        \n",
    "    def predict_proba(self, row_to_predict, column_name):\n",
    "        return self.predict_option(row_to_predict, column_name, False)"
   ]
  },
  {
   "cell_type": "code",
   "execution_count": 65,
   "id": "95fd2bc7-4fa2-4d02-ad5c-a7ff7878d732",
   "metadata": {},
   "outputs": [
    {
     "data": {
      "text/plain": [
       "[('p', 4.866581859441924e-44), ('e', 2.2635937728415586e-09)]"
      ]
     },
     "execution_count": 65,
     "metadata": {},
     "output_type": "execute_result"
    }
   ],
   "source": [
    "\"\"\"\n",
    "tworzenie klasyfikatora: NBC=MulitnomialNaiveBayesClassifie()\n",
    "przygotowywanie zbioru testowego i treningowego: X_train, X_test = train_test_split(X, test_size=0.3, random_state=42), test_size oznacza rozmiar probki, aktualnie 70% jest do trenowania systemu, a pozostale do testow\n",
    "trenowanie systemu: NBC.fit(X_train, \"nazwa_kolumny_do_nauki\"), dla nas nazwa... powinna być \"class\", wszystkie nazwy kolumn: X.columns\n",
    "estymacja dla p o j e d y n c z e g o wiersza NBC.predict(X_test.iloc[ind]), gdzie ind to numer wiersza, liczac od gory, zwraca najbardziej prawdopodobna wartosc zmiennej szukanej.\n",
    "tablica prawdopodobienstw, mozliwych wynikow, dla p o j e d y n c z e g o wiersza: NBC.predict_proba(X_test.iloc[ind]) \n",
    "\"\"\"\n",
    "NBC=MulitnomialNaiveBayesClassifie()\n",
    "NBC.fit(X, \"class\")\n",
    "NBC.predict_proba(X.iloc[1], \"class\") "
   ]
  },
  {
   "cell_type": "code",
   "execution_count": null,
   "id": "894e2393-a403-437d-88f5-556b846f549f",
   "metadata": {},
   "outputs": [],
   "source": [
    "for column in data.columns:\n",
    "    if column != \"class\": # Ominięcie kolumny z klasą\n",
    "        print(f\"Cecha: {column}\")\n",
    "        print(data.groupby(\"class\")[column].value_counts(), \"\\n\")"
   ]
  },
  {
   "cell_type": "code",
   "execution_count": 4,
   "id": "d20f8178-8ac1-4d8c-9ecc-c1eb8a657486",
   "metadata": {},
   "outputs": [
    {
     "ename": "NameError",
     "evalue": "name 'sns' is not defined",
     "output_type": "error",
     "traceback": [
      "\u001b[0;31m---------------------------------------------------------------------------\u001b[0m",
      "\u001b[0;31mNameError\u001b[0m                                 Traceback (most recent call last)",
      "Cell \u001b[0;32mIn[4], line 2\u001b[0m\n\u001b[1;32m      1\u001b[0m \u001b[38;5;66;03m# Wykres punktowy zapachu (odor) i rozmiaru blaszek (gill-size)\u001b[39;00m\n\u001b[0;32m----> 2\u001b[0m sns\u001b[38;5;241m.\u001b[39mscatterplot(data\u001b[38;5;241m=\u001b[39mdata_encoded, x\u001b[38;5;241m=\u001b[39m\u001b[38;5;124m'\u001b[39m\u001b[38;5;124modor\u001b[39m\u001b[38;5;124m'\u001b[39m, y\u001b[38;5;241m=\u001b[39m\u001b[38;5;124m'\u001b[39m\u001b[38;5;124mgill-size\u001b[39m\u001b[38;5;124m'\u001b[39m, hue\u001b[38;5;241m=\u001b[39mdata[\u001b[38;5;124m'\u001b[39m\u001b[38;5;124mclass\u001b[39m\u001b[38;5;124m'\u001b[39m], palette\u001b[38;5;241m=\u001b[39m{\u001b[38;5;124m'\u001b[39m\u001b[38;5;124me\u001b[39m\u001b[38;5;124m'\u001b[39m: \u001b[38;5;124m'\u001b[39m\u001b[38;5;124mgreen\u001b[39m\u001b[38;5;124m'\u001b[39m, \u001b[38;5;124m'\u001b[39m\u001b[38;5;124mp\u001b[39m\u001b[38;5;124m'\u001b[39m: \u001b[38;5;124m'\u001b[39m\u001b[38;5;124mred\u001b[39m\u001b[38;5;124m'\u001b[39m})\n\u001b[1;32m      3\u001b[0m plt\u001b[38;5;241m.\u001b[39mtitle(\u001b[38;5;124m\"\u001b[39m\u001b[38;5;124mZależność między \u001b[39m\u001b[38;5;124m'\u001b[39m\u001b[38;5;124modor\u001b[39m\u001b[38;5;124m'\u001b[39m\u001b[38;5;124m a \u001b[39m\u001b[38;5;124m'\u001b[39m\u001b[38;5;124mgill-size\u001b[39m\u001b[38;5;124m'\u001b[39m\u001b[38;5;124m\"\u001b[39m)\n\u001b[1;32m      4\u001b[0m plt\u001b[38;5;241m.\u001b[39mshow()\n",
      "\u001b[0;31mNameError\u001b[0m: name 'sns' is not defined"
     ]
    }
   ],
   "source": [
    "\n",
    "# Wykres punktowy zapachu (odor) i rozmiaru blaszek (gill-size)\n",
    "sns.scatterplot(data=data_encoded, x='odor', y='gill-size', hue=data['class'], palette={'e': 'green', 'p': 'red'})\n",
    "plt.title(\"Zależność między 'odor' a 'gill-size'\")\n",
    "plt.show()"
   ]
  },
  {
   "cell_type": "code",
   "execution_count": null,
   "id": "4e3adf35-d47b-4b4c-bc8a-1e52fbc012d8",
   "metadata": {},
   "outputs": [],
   "source": []
  }
 ],
 "metadata": {
  "kernelspec": {
   "display_name": "Python 3 (ipykernel)",
   "language": "python",
   "name": "python3"
  },
  "language_info": {
   "codemirror_mode": {
    "name": "ipython",
    "version": 3
   },
   "file_extension": ".py",
   "mimetype": "text/x-python",
   "name": "python",
   "nbconvert_exporter": "python",
   "pygments_lexer": "ipython3",
   "version": "3.12.4"
  }
 },
 "nbformat": 4,
 "nbformat_minor": 5
}
